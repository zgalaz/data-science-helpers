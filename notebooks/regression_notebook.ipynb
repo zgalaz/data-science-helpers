{
 "cells": [
  {
   "cell_type": "code",
   "execution_count": 1,
   "metadata": {},
   "outputs": [],
   "source": [
    "# Make sure helpers functionality can be imported\n",
    "import os\n",
    "import sys\n",
    "\n",
    "project_path, _ = os.path.split(os.getcwd())\n",
    "if project_path not in sys.path:\n",
    "    sys.path.insert(0, project_path)"
   ]
  },
  {
   "cell_type": "code",
   "execution_count": 2,
   "metadata": {},
   "outputs": [],
   "source": [
    "# Dependencies\n",
    "# pip install numpy\n",
    "# pip install pandas\n",
    "# pip install sklearn\n",
    "\n",
    "# Ignore warnings\n",
    "import warnings; warnings.simplefilter(\"ignore\")\n",
    "\n",
    "# Import libraries\n",
    "import numpy as np\n",
    "\n",
    "# Set the random generator seed\n",
    "seed = 42"
   ]
  },
  {
   "cell_type": "markdown",
   "metadata": {},
   "source": [
    "## Load an experimental data"
   ]
  },
  {
   "cell_type": "code",
   "execution_count": 3,
   "metadata": {},
   "outputs": [],
   "source": [
    "# Load an example dataset\n",
    "from sklearn.datasets import load_diabetes\n",
    "\n",
    "dataset = load_diabetes()\n",
    "X = dataset.data\n",
    "y = dataset.target"
   ]
  },
  {
   "cell_type": "markdown",
   "metadata": {},
   "source": [
    "## Cross-validate an example regressor"
   ]
  },
  {
   "cell_type": "code",
   "execution_count": 4,
   "metadata": {},
   "outputs": [
    {
     "name": "stdout",
     "output_type": "stream",
     "text": [
      "-------------------------\n",
      "Cross-validation results:\n",
      "-------------------------\n",
      "\n",
      "mae = 44.48 +- 3.56\n",
      "eer = 0.17 +- 0.02\n",
      "r2_adj = 0.30 +- 0.15\n"
     ]
    }
   ],
   "source": [
    "from helpers.regression.validation import cross_validate_regressor\n",
    "from sklearn.linear_model import LinearRegression\n",
    "\n",
    "# Initialize the regressor\n",
    "regressor = LinearRegression()\n",
    "\n",
    "# Define the regression options\n",
    "metrics = (\"mae\", \"eer\", \"r2_adj\")\n",
    "num_folds = 10\n",
    "num_repetitions = 20\n",
    "\n",
    "# Cross-validate the classifier\n",
    "results = cross_validate_regressor(X, \n",
    "                                   y, \n",
    "                                   regressor, \n",
    "                                   metrics=metrics, \n",
    "                                   num_folds=num_folds, \n",
    "                                   num_repetitions=num_repetitions, \n",
    "                                   seed=seed)\n",
    "\n",
    "print(\"-------------------------\")\n",
    "print(\"Cross-validation results:\")\n",
    "print(\"-------------------------\")\n",
    "print(\"\")\n",
    "\n",
    "for metric in metrics:\n",
    "    metric_avg = float(np.mean(results[metric]))\n",
    "    metric_std = float(np.std(results[metric]))\n",
    "    print(\"{} = {:.2f} +- {:.2f}\".format(metric, metric_avg, metric_std))"
   ]
  }
 ],
 "metadata": {
  "kernelspec": {
   "display_name": "Python 3",
   "language": "python",
   "name": "python3"
  },
  "language_info": {
   "codemirror_mode": {
    "name": "ipython",
    "version": 3
   },
   "file_extension": ".py",
   "mimetype": "text/x-python",
   "name": "python",
   "nbconvert_exporter": "python",
   "pygments_lexer": "ipython3",
   "version": "3.7.2"
  }
 },
 "nbformat": 4,
 "nbformat_minor": 2
}
