{
 "cells": [
  {
   "cell_type": "code",
   "execution_count": 1,
   "metadata": {},
   "outputs": [],
   "source": [
    "# Make sure helpers functionality can be imported\n",
    "import os\n",
    "import sys\n",
    "\n",
    "project_path, _ = os.path.split(os.getcwd())\n",
    "if project_path not in sys.path:\n",
    "    sys.path.insert(0, project_path)"
   ]
  },
  {
   "cell_type": "code",
   "execution_count": 10,
   "metadata": {},
   "outputs": [],
   "source": [
    "# Dependencies\n",
    "# pip install numpy\n",
    "# pip install pandas\n",
    "# pip install sklearn\n",
    "\n",
    "# Ignore warnings\n",
    "import warnings; warnings.simplefilter(\"ignore\")\n",
    "\n",
    "# Import libraries\n",
    "import numpy as np\n",
    "from helpers.utils.logger import Logger\n",
    "\n",
    "# Set the random generator seed\n",
    "seed = 42"
   ]
  },
  {
   "cell_type": "markdown",
   "metadata": {},
   "source": [
    "## Load an experimental data"
   ]
  },
  {
   "cell_type": "code",
   "execution_count": 11,
   "metadata": {},
   "outputs": [],
   "source": [
    "# Load an example dataset\n",
    "from sklearn.datasets import load_breast_cancer\n",
    "\n",
    "dataset = load_breast_cancer()\n",
    "X = dataset.data\n",
    "y = dataset.target"
   ]
  },
  {
   "cell_type": "markdown",
   "metadata": {},
   "source": [
    "## Cross-validate an example classifier"
   ]
  },
  {
   "cell_type": "code",
   "execution_count": 12,
   "metadata": {},
   "outputs": [
    {
     "name": "stdout",
     "output_type": "stream",
     "text": [
      "-------------------------\n",
      "Cross-validation results:\n",
      "-------------------------\n",
      "\n",
      "acc = 0.94 +- 0.02\n",
      "sen = 0.96 +- 0.04\n",
      "spe = 0.91 +- 0.07\n"
     ]
    }
   ],
   "source": [
    "from helpers.classification.validation import cross_validate_classifier\n",
    "from sklearn.linear_model import LogisticRegression\n",
    "\n",
    "# Initialize the classifier\n",
    "classifier = LogisticRegression(random_state=seed, solver=\"lbfgs\")\n",
    "\n",
    "# Define the classification options\n",
    "threshold = 0.5\n",
    "metrics = (\"acc\", \"sen\", \"spe\")\n",
    "num_folds = 10\n",
    "num_repetitions = 20\n",
    "verbose = False\n",
    "\n",
    "# Cross-validate the classifier\n",
    "results = cross_validate_classifier(X, \n",
    "                                    y, \n",
    "                                    classifier, \n",
    "                                    threshold=threshold, \n",
    "                                    metrics=metrics, \n",
    "                                    num_folds=num_folds, \n",
    "                                    num_repetitions=num_repetitions, \n",
    "                                    seed=seed)\n",
    "\n",
    "print(\"-------------------------\")\n",
    "print(\"Cross-validation results:\")\n",
    "print(\"-------------------------\")\n",
    "print(\"\")\n",
    "\n",
    "for metric in metrics:\n",
    "    print(\"{} = {:.2f} +- {:.2f}\".format(metric, float(np.mean(results[metric])), float(np.std(results[metric]))))"
   ]
  },
  {
   "cell_type": "code",
   "execution_count": null,
   "metadata": {},
   "outputs": [],
   "source": []
  },
  {
   "cell_type": "code",
   "execution_count": null,
   "metadata": {},
   "outputs": [],
   "source": []
  }
 ],
 "metadata": {
  "kernelspec": {
   "display_name": "Python 3",
   "language": "python",
   "name": "python3"
  },
  "language_info": {
   "codemirror_mode": {
    "name": "ipython",
    "version": 3
   },
   "file_extension": ".py",
   "mimetype": "text/x-python",
   "name": "python",
   "nbconvert_exporter": "python",
   "pygments_lexer": "ipython3",
   "version": "3.7.2"
  }
 },
 "nbformat": 4,
 "nbformat_minor": 2
}
