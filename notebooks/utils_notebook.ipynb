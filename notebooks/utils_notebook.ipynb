{
 "cells": [
  {
   "cell_type": "code",
   "execution_count": 1,
   "metadata": {},
   "outputs": [],
   "source": [
    "# Make sure helpers functionality can be imported\n",
    "import os\n",
    "import sys\n",
    "\n",
    "project_path, _ = os.path.split(os.getcwd())\n",
    "if project_path not in sys.path:\n",
    "    sys.path.insert(0, project_path)"
   ]
  },
  {
   "cell_type": "code",
   "execution_count": 2,
   "metadata": {},
   "outputs": [],
   "source": [
    "# Dependencies\n",
    "# pip install numpy\n",
    "# pip install pandas\n",
    "# pip install sklearn\n",
    "\n",
    "# Ignore warnings\n",
    "import warnings; warnings.simplefilter(\"ignore\")\n",
    "\n",
    "# Import libraries\n",
    "import numpy as np"
   ]
  },
  {
   "cell_type": "markdown",
   "metadata": {},
   "source": [
    "## Load an experimental data"
   ]
  },
  {
   "cell_type": "code",
   "execution_count": 3,
   "metadata": {},
   "outputs": [
    {
     "name": "stdout",
     "output_type": "stream",
     "text": [
      ".. _boston_dataset:\n",
      "\n",
      "Boston house prices dataset\n",
      "---------------------------\n",
      "\n",
      "**Data Set Characteristics:**  \n",
      "\n",
      "    :Number of Instances: 506 \n",
      "\n",
      "    :Number of Attributes: 13 numeric/categorical predictive. Median Value (attribute 14) is usually the target.\n",
      "\n",
      "    :Attribute Information (in order):\n",
      "        - CRIM     per capita crime rate by town\n",
      "        - ZN       proportion of residential land zoned for lots over 25,000 sq.ft.\n",
      "        - INDUS    proportion of non-retail business acres per town\n",
      "        - CHAS     Charles River dummy variable (= 1 if tract bounds river; 0 otherwise)\n",
      "        - NOX      nitric oxides concentration (parts per 10 million)\n",
      "        - RM       average number of rooms per dwelling\n",
      "        - AGE      proportion of owner-occupied units built prior to 1940\n",
      "        - DIS      weighted distances to five Boston employment centres\n",
      "        - RAD      index of accessibility to radial highways\n",
      "        - TAX      full-value property-tax rate per $10,000\n",
      "        - PTRATIO  pupil-teacher ratio by town\n",
      "        - B        1000(Bk - 0.63)^2 where Bk is the proportion of blacks by town\n",
      "        - LSTAT    % lower status of the population\n",
      "        - MEDV     Median value of owner-occupied homes in $1000's\n",
      "\n",
      "    :Missing Attribute Values: None\n",
      "\n",
      "    :Creator: Harrison, D. and Rubinfeld, D.L.\n",
      "\n",
      "This is a copy of UCI ML housing dataset.\n",
      "https://archive.ics.uci.edu/ml/machine-learning-databases/housing/\n",
      "\n",
      "\n",
      "This dataset was taken from the StatLib library which is maintained at Carnegie Mellon University.\n",
      "\n",
      "The Boston house-price data of Harrison, D. and Rubinfeld, D.L. 'Hedonic\n",
      "prices and the demand for clean air', J. Environ. Economics & Management,\n",
      "vol.5, 81-102, 1978.   Used in Belsley, Kuh & Welsch, 'Regression diagnostics\n",
      "...', Wiley, 1980.   N.B. Various transformations are used in the table on\n",
      "pages 244-261 of the latter.\n",
      "\n",
      "The Boston house-price data has been used in many machine learning papers that address regression\n",
      "problems.   \n",
      "     \n",
      ".. topic:: References\n",
      "\n",
      "   - Belsley, Kuh & Welsch, 'Regression diagnostics: Identifying Influential Data and Sources of Collinearity', Wiley, 1980. 244-261.\n",
      "   - Quinlan,R. (1993). Combining Instance-Based and Model-Based Learning. In Proceedings on the Tenth International Conference of Machine Learning, 236-243, University of Massachusetts, Amherst. Morgan Kaufmann.\n",
      "\n"
     ]
    }
   ],
   "source": [
    "# Load an example dataset\n",
    "from sklearn.datasets import load_boston\n",
    "\n",
    "dataset = load_boston()\n",
    "X = dataset.data\n",
    "y = dataset.target\n",
    "feature_names = dataset.feature_names\n",
    "\n",
    "print(dataset.get('DESCR'))"
   ]
  },
  {
   "cell_type": "markdown",
   "metadata": {},
   "source": [
    "## Remove the effect of covariates"
   ]
  },
  {
   "cell_type": "code",
   "execution_count": 4,
   "metadata": {},
   "outputs": [
    {
     "name": "stdout",
     "output_type": "stream",
     "text": [
      "\n",
      "Original features\n",
      "\n",
      "[[6.3200e-03 1.8000e+01 2.3100e+00 0.0000e+00 5.3800e-01 6.5750e+00\n",
      "  6.5200e+01 4.0900e+00]\n",
      " [2.7310e-02 0.0000e+00 7.0700e+00 0.0000e+00 4.6900e-01 6.4210e+00\n",
      "  7.8900e+01 4.9671e+00]\n",
      " [2.7290e-02 0.0000e+00 7.0700e+00 0.0000e+00 4.6900e-01 7.1850e+00\n",
      "  6.1100e+01 4.9671e+00]\n",
      " [3.2370e-02 0.0000e+00 2.1800e+00 0.0000e+00 4.5800e-01 6.9980e+00\n",
      "  4.5800e+01 6.0622e+00]\n",
      " [6.9050e-02 0.0000e+00 2.1800e+00 0.0000e+00 4.5800e-01 7.1470e+00\n",
      "  5.4200e+01 6.0622e+00]\n",
      " [2.9850e-02 0.0000e+00 2.1800e+00 0.0000e+00 4.5800e-01 6.4300e+00\n",
      "  5.8700e+01 6.0622e+00]\n",
      " [8.8290e-02 1.2500e+01 7.8700e+00 0.0000e+00 5.2400e-01 6.0120e+00\n",
      "  6.6600e+01 5.5605e+00]\n",
      " [1.4455e-01 1.2500e+01 7.8700e+00 0.0000e+00 5.2400e-01 6.1720e+00\n",
      "  9.6100e+01 5.9505e+00]]\n",
      "\n",
      "Features without the effect of covariates\n",
      "\n",
      "[[-4.09236952e+00  7.76329402e+00 -8.96200184e+00 -5.61238452e-02\n",
      "  -1.39418259e-02  2.69840703e-01 -1.88331322e+00  2.95921743e-01]\n",
      " [-3.27018388e+00 -1.11343422e+01 -4.04210870e+00 -7.81041809e-02\n",
      "  -8.69738959e-02  1.38797204e-01  9.52474956e+00  1.21298405e+00]\n",
      " [-3.08480041e+00 -1.17818066e+01 -4.00315042e+00 -8.93961800e-02\n",
      "  -8.97632549e-02  9.18680821e-01 -9.51094602e+00  1.21124109e+00]\n",
      " [-4.29236096e+00 -6.93456389e+00 -9.41305002e+00 -6.91600808e-02\n",
      "  -9.56964261e-02  6.67300151e-01 -2.18433009e+01  2.41060624e+00]\n",
      " [-3.25496705e+00 -1.71274487e+01 -8.47402545e+00 -5.87663685e-02\n",
      "  -9.70364837e-02  9.18586443e-01 -1.46147014e+01  2.02717896e+00]\n",
      " [-4.28196302e+00 -8.69777943e+00 -9.30855539e+00 -7.18535704e-02\n",
      "  -9.74881422e-02  1.22252548e-01 -9.59769249e+00  2.33971770e+00]\n",
      " [-3.18805421e+00  3.31801456e+00 -3.30651636e+00 -6.49976788e-02\n",
      "  -2.73333697e-02 -3.04733296e-01 -1.05665556e+00  1.87451355e+00]\n",
      " [-3.59977813e+00  1.24134395e+00 -3.27169429e+00 -6.11835457e-02\n",
      "  -2.89503748e-02 -1.19724444e-01  2.83206962e+01  2.14168513e+00]]\n"
     ]
    }
   ],
   "source": [
    "from helpers.utils.transformers import remove_effect_of_covariates\n",
    "\n",
    "# Show the original features\n",
    "print(\"\\nOriginal features\\n\")\n",
    "print(X[0:8, 0:8])\n",
    "\n",
    "# Create some artificial data to play the role of covariates\n",
    "covariates = np.random.randn(X.shape[0], 3)\n",
    "\n",
    "# Create the copy of the feature matrix\n",
    "X_copy = X.copy()\n",
    "\n",
    "# Remove the effect of covariates\n",
    "X_copy = remove_effect_of_covariates(X_copy, covariates)\n",
    "\n",
    "# Show the edited features\n",
    "print(\"\\nFeatures without the effect of covariates\\n\")\n",
    "print(X_copy[0:8, 0:8])"
   ]
  }
 ],
 "metadata": {
  "kernelspec": {
   "display_name": "Python 3",
   "language": "python",
   "name": "python3"
  },
  "language_info": {
   "codemirror_mode": {
    "name": "ipython",
    "version": 3
   },
   "file_extension": ".py",
   "mimetype": "text/x-python",
   "name": "python",
   "nbconvert_exporter": "python",
   "pygments_lexer": "ipython3",
   "version": "3.7.2"
  }
 },
 "nbformat": 4,
 "nbformat_minor": 2
}
